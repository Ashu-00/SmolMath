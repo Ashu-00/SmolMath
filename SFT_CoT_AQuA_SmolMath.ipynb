{
  "cells": [
    {
      "cell_type": "code",
      "execution_count": 1,
      "metadata": {
        "colab": {
          "base_uri": "https://localhost:8080/",
          "height": 81,
          "referenced_widgets": [
            "ae0c405d1d5548c38f4a9285b3a8857a",
            "7079999dbe4a4f359f80ed002a9fc73e",
            "578b631a8d59447d9033e6e664a2bce0",
            "8614a8ac61af49d99ca219c65c4699c1",
            "898ac0c448f348a7a591b00c631ed4b4",
            "f5918ce91907487fa87a706630a2356b",
            "030391c8171a45d58aee5c1bbcfcceac",
            "d6f2afc538ed47d1923dec19b2cdcb5b",
            "7cae0bcbf31240eeac1bfd5fa9455d75",
            "85a29dc86ffa4f6bbe34c6325e6c4ae8",
            "0941a2bf3efa4e2ebe770040e7a73547",
            "448a59a6278b4c9cabd809978d5dd828",
            "dda37ef95c2c4aaf8af8dbc7b346e8ac",
            "a65939d6094b49468bbe14ebd05f89be",
            "f99e2da4339d4cdf8ea17451b5e34012",
            "d193bab65dc541da8b8f81c7b3ae86eb",
            "ff886d0d26cf4a2ea36156440c2edab3",
            "155c8a9027d74a71a68f05f5270db04a",
            "a6bad1d2c9724ec092c7179613cacb93",
            "f49a1f6ccf634cfbaf68752275429e89",
            "267df83c45954b24908994626a2e5748",
            "2f366273320f4de586e9c4cb75098f09"
          ]
        },
        "id": "xLTWZOIDtoRY",
        "outputId": "048d3b96-db59-4d83-e91c-f598849622b5"
      },
      "outputs": [
        {
          "name": "stderr",
          "output_type": "stream",
          "text": [
            "Using the latest cached version of the dataset since aqua_rat couldn't be found on the Hugging Face Hub\n",
            "Found the latest cached dataset configuration 'raw' at /home/ivlabs/.cache/huggingface/datasets/aqua_rat/raw/0.0.0/33301c6a050c96af81f63cad5562cb5363e88971 (last modified on Wed Jun  4 16:40:34 2025).\n"
          ]
        }
      ],
      "source": [
        "from datasets import load_dataset\n",
        "\n",
        "# 1) Load the HF dataset\n",
        "dataset = load_dataset(\"aqua_rat\", \"raw\")  # already splits into train/validation/test\n",
        "\n",
        "def make_prompt_and_target(example):\n",
        "    question = example[\"question\"]\n",
        "    opts = example[\"options\"]\n",
        "    # Format options on one line, separated by two spaces\n",
        "    opt_line = \"  \".join(opts)\n",
        "\n",
        "    # Join the rationale list into newline‐separated text\n",
        "    rationale_text = (example[\"rationale\"])\n",
        "\n",
        "    # Final target .= rationale + “The answer is <letter>.”\n",
        "    target = rationale_text + \"\\n####The answer is \" + example[\"correct\"] + \".\"\n",
        "\n",
        "    # Build the prompt\n",
        "    prompt = f\"Question: {question}\\nOptions: {opt_line}\\nAnswer:\\n\"\n",
        "\n",
        "    return {\"prompt\": prompt, \"completion\": target}\n",
        "\n",
        "# 2) Map over the split\n",
        "train = dataset[\"train\"].map(make_prompt_and_target, remove_columns=dataset[\"train\"].column_names)\n",
        "validation = dataset[\"validation\"].map(make_prompt_and_target, remove_columns=dataset[\"validation\"].column_names)\n"
      ]
    },
    {
      "cell_type": "code",
      "execution_count": 2,
      "metadata": {
        "colab": {
          "base_uri": "https://localhost:8080/"
        },
        "id": "MwotN-3Ru1Pu",
        "outputId": "2ed32754-2077-4494-d588-4a64fbcf0096"
      },
      "outputs": [
        {
          "data": {
            "text/plain": [
              "Dataset({\n",
              "    features: ['prompt', 'completion'],\n",
              "    num_rows: 97467\n",
              "})"
            ]
          },
          "execution_count": 2,
          "metadata": {},
          "output_type": "execute_result"
        }
      ],
      "source": [
        "train"
      ]
    },
    {
      "cell_type": "code",
      "execution_count": 3,
      "metadata": {
        "colab": {
          "base_uri": "https://localhost:8080/"
        },
        "id": "givj0MJdu3M9",
        "outputId": "5c38d348-c583-43b6-b7c6-45ff42eec873"
      },
      "outputs": [
        {
          "data": {
            "text/plain": [
              "{'prompt': 'Question: The speed at which a man can row a boat in still water is 25 kmph. If he rows downstream, where the speed of current is 11 kmph, what time will he take to cover 80 metres?\\nOptions: A)18 seconds  B)27 seconds  C)26 seconds  D)12 seconds  E)8 seconds\\nAnswer:\\n',\n",
              " 'completion': 'Speed of the boat downstream = 25 +11\\n= 36 kmph\\n= 36 * 5/18 = 10 m/s\\nHence time taken to cover 80 m = 80/10\\n= 8 seconds.\\nAnswer:E\\n####The answer is E.'}"
            ]
          },
          "execution_count": 3,
          "metadata": {},
          "output_type": "execute_result"
        }
      ],
      "source": [
        "train[4]"
      ]
    },
    {
      "cell_type": "code",
      "execution_count": 4,
      "metadata": {
        "colab": {
          "base_uri": "https://localhost:8080/"
        },
        "id": "Gl4kp6aqwFSP",
        "outputId": "fe0dd51a-21da-4708-f0a6-080a7ae0b6f1"
      },
      "outputs": [
        {
          "data": {
            "text/plain": [
              "{'prompt': 'Question: Let A, B and C denote the vertices of a triangle with area 10. Let point D be on side AB,\\npoint E be on side BC and point F be on side CA with AD = 2 and DB = 3. The area of\\n△ABE and the area of quadrilateral DBEF are the same. What is the value of this area?\\nOptions: A)5.5  B)6  C)7  D)8  E)8.25\\nAnswer:\\n',\n",
              " 'completion': 'First, note that 4AFD and 4AFE have the same area. Therefore, ED is parallel to AF.\\nSince 4DEB and 4ACB are similar, BE=EC = 3=2. Thus, the area of 4AEB is 3=5ths of the\\narea of 4ABC.\\ncorrect answer B\\n####The answer is B.'}"
            ]
          },
          "execution_count": 4,
          "metadata": {},
          "output_type": "execute_result"
        }
      ],
      "source": [
        "validation[7]"
      ]
    },
    {
      "cell_type": "code",
      "execution_count": 5,
      "metadata": {
        "id": "E6x6XzYQvn2c"
      },
      "outputs": [],
      "source": [
        "from transformers import AutoTokenizer, AutoModelForCausalLM\n",
        "\n",
        "tokenizer = AutoTokenizer.from_pretrained(\"HuggingFaceTB/SmolLM2-135M\")\n",
        "model = AutoModelForCausalLM.from_pretrained(\"HuggingFaceTB/SmolLM2-135M\")"
      ]
    },
    {
      "cell_type": "code",
      "execution_count": 6,
      "metadata": {},
      "outputs": [],
      "source": [
        "tokenizer.pad_token = tokenizer.eos_token"
      ]
    },
    {
      "cell_type": "code",
      "execution_count": 7,
      "metadata": {
        "id": "WXhDVoY4vuYF"
      },
      "outputs": [
        {
          "name": "stdout",
          "output_type": "stream",
          "text": [
            "Using device for training: cuda\n"
          ]
        },
        {
          "data": {
            "application/vnd.jupyter.widget-view+json": {
              "model_id": "832c7a2d674c44049cf800603184c04b",
              "version_major": 2,
              "version_minor": 0
            },
            "text/plain": [
              "Applying chat template to train dataset:   0%|          | 0/97467 [00:00<?, ? examples/s]"
            ]
          },
          "metadata": {},
          "output_type": "display_data"
        },
        {
          "data": {
            "application/vnd.jupyter.widget-view+json": {
              "model_id": "9683584d0af64f1b855256bc360ec237",
              "version_major": 2,
              "version_minor": 0
            },
            "text/plain": [
              "Tokenizing train dataset:   0%|          | 0/97467 [00:00<?, ? examples/s]"
            ]
          },
          "metadata": {},
          "output_type": "display_data"
        },
        {
          "data": {
            "application/vnd.jupyter.widget-view+json": {
              "model_id": "3cccf0172bd44d0d9c511317a0b014cc",
              "version_major": 2,
              "version_minor": 0
            },
            "text/plain": [
              "Truncating train dataset:   0%|          | 0/97467 [00:00<?, ? examples/s]"
            ]
          },
          "metadata": {},
          "output_type": "display_data"
        },
        {
          "data": {
            "application/vnd.jupyter.widget-view+json": {
              "model_id": "5f5fdebcd34342a38ca4c0f86bc4d3b8",
              "version_major": 2,
              "version_minor": 0
            },
            "text/plain": [
              "Applying chat template to eval dataset:   0%|          | 0/254 [00:00<?, ? examples/s]"
            ]
          },
          "metadata": {},
          "output_type": "display_data"
        },
        {
          "data": {
            "application/vnd.jupyter.widget-view+json": {
              "model_id": "dcc6116badb543878209ef44bcfd88a7",
              "version_major": 2,
              "version_minor": 0
            },
            "text/plain": [
              "Tokenizing eval dataset:   0%|          | 0/254 [00:00<?, ? examples/s]"
            ]
          },
          "metadata": {},
          "output_type": "display_data"
        },
        {
          "data": {
            "application/vnd.jupyter.widget-view+json": {
              "model_id": "4e20376a9c10476eae22ef0cff7305dc",
              "version_major": 2,
              "version_minor": 0
            },
            "text/plain": [
              "Truncating eval dataset:   0%|          | 0/254 [00:00<?, ? examples/s]"
            ]
          },
          "metadata": {},
          "output_type": "display_data"
        },
        {
          "name": "stderr",
          "output_type": "stream",
          "text": [
            "\u001b[34m\u001b[1mwandb\u001b[0m: \u001b[33mWARNING\u001b[0m The `run_name` is currently set to the same value as `TrainingArguments.output_dir`. If this was not intended, please specify a different run name by setting the `TrainingArguments.run_name` parameter.\n",
            "\u001b[34m\u001b[1mwandb\u001b[0m: Currently logged in as: \u001b[33mbt22ece049\u001b[0m (\u001b[33mbt21ece003-nit-nagpur\u001b[0m) to \u001b[32mhttps://api.wandb.ai\u001b[0m. Use \u001b[1m`wandb login --relogin`\u001b[0m to force relogin\n"
          ]
        },
        {
          "data": {
            "text/html": [
              "Tracking run with wandb version 0.19.11"
            ],
            "text/plain": [
              "<IPython.core.display.HTML object>"
            ]
          },
          "metadata": {},
          "output_type": "display_data"
        },
        {
          "data": {
            "text/html": [
              "Run data is saved locally in <code>/home/ivlabs/Desktop/gautam/SmolMath/wandb/run-20250604_164233-zwydkgm3</code>"
            ],
            "text/plain": [
              "<IPython.core.display.HTML object>"
            ]
          },
          "metadata": {},
          "output_type": "display_data"
        },
        {
          "data": {
            "text/html": [
              "Syncing run <strong><a href='https://wandb.ai/bt21ece003-nit-nagpur/huggingface/runs/zwydkgm3' target=\"_blank\">./smolmath-sft2-cot</a></strong> to <a href='https://wandb.ai/bt21ece003-nit-nagpur/huggingface' target=\"_blank\">Weights & Biases</a> (<a href='https://wandb.me/developer-guide' target=\"_blank\">docs</a>)<br>"
            ],
            "text/plain": [
              "<IPython.core.display.HTML object>"
            ]
          },
          "metadata": {},
          "output_type": "display_data"
        },
        {
          "data": {
            "text/html": [
              " View project at <a href='https://wandb.ai/bt21ece003-nit-nagpur/huggingface' target=\"_blank\">https://wandb.ai/bt21ece003-nit-nagpur/huggingface</a>"
            ],
            "text/plain": [
              "<IPython.core.display.HTML object>"
            ]
          },
          "metadata": {},
          "output_type": "display_data"
        },
        {
          "data": {
            "text/html": [
              " View run at <a href='https://wandb.ai/bt21ece003-nit-nagpur/huggingface/runs/zwydkgm3' target=\"_blank\">https://wandb.ai/bt21ece003-nit-nagpur/huggingface/runs/zwydkgm3</a>"
            ],
            "text/plain": [
              "<IPython.core.display.HTML object>"
            ]
          },
          "metadata": {},
          "output_type": "display_data"
        },
        {
          "data": {
            "text/html": [
              "\n",
              "    <div>\n",
              "      \n",
              "      <progress value='24367' max='24367' style='width:300px; height:20px; vertical-align: middle;'></progress>\n",
              "      [24367/24367 1:45:01, Epoch 1/1]\n",
              "    </div>\n",
              "    <table border=\"1\" class=\"dataframe\">\n",
              "  <thead>\n",
              " <tr style=\"text-align: left;\">\n",
              "      <th>Step</th>\n",
              "      <th>Training Loss</th>\n",
              "      <th>Validation Loss</th>\n",
              "    </tr>\n",
              "  </thead>\n",
              "  <tbody>\n",
              "    <tr>\n",
              "      <td>1500</td>\n",
              "      <td>1.330200</td>\n",
              "      <td>1.549816</td>\n",
              "    </tr>\n",
              "    <tr>\n",
              "      <td>3000</td>\n",
              "      <td>1.264800</td>\n",
              "      <td>1.529393</td>\n",
              "    </tr>\n",
              "    <tr>\n",
              "      <td>4500</td>\n",
              "      <td>1.274000</td>\n",
              "      <td>1.515157</td>\n",
              "    </tr>\n",
              "    <tr>\n",
              "      <td>6000</td>\n",
              "      <td>1.182000</td>\n",
              "      <td>1.515770</td>\n",
              "    </tr>\n",
              "    <tr>\n",
              "      <td>7500</td>\n",
              "      <td>1.170600</td>\n",
              "      <td>1.514409</td>\n",
              "    </tr>\n",
              "    <tr>\n",
              "      <td>9000</td>\n",
              "      <td>1.188500</td>\n",
              "      <td>1.512891</td>\n",
              "    </tr>\n",
              "    <tr>\n",
              "      <td>10500</td>\n",
              "      <td>1.062600</td>\n",
              "      <td>1.523832</td>\n",
              "    </tr>\n",
              "    <tr>\n",
              "      <td>12000</td>\n",
              "      <td>1.107700</td>\n",
              "      <td>1.513205</td>\n",
              "    </tr>\n",
              "    <tr>\n",
              "      <td>13500</td>\n",
              "      <td>1.062600</td>\n",
              "      <td>1.518937</td>\n",
              "    </tr>\n",
              "    <tr>\n",
              "      <td>15000</td>\n",
              "      <td>1.061500</td>\n",
              "      <td>1.527391</td>\n",
              "    </tr>\n",
              "    <tr>\n",
              "      <td>16500</td>\n",
              "      <td>1.059800</td>\n",
              "      <td>1.522300</td>\n",
              "    </tr>\n",
              "    <tr>\n",
              "      <td>18000</td>\n",
              "      <td>1.073600</td>\n",
              "      <td>1.523156</td>\n",
              "    </tr>\n",
              "    <tr>\n",
              "      <td>19500</td>\n",
              "      <td>0.992400</td>\n",
              "      <td>1.527808</td>\n",
              "    </tr>\n",
              "    <tr>\n",
              "      <td>21000</td>\n",
              "      <td>1.013100</td>\n",
              "      <td>1.527860</td>\n",
              "    </tr>\n",
              "    <tr>\n",
              "      <td>22500</td>\n",
              "      <td>0.985000</td>\n",
              "      <td>1.527255</td>\n",
              "    </tr>\n",
              "    <tr>\n",
              "      <td>24000</td>\n",
              "      <td>1.056800</td>\n",
              "      <td>1.524518</td>\n",
              "    </tr>\n",
              "  </tbody>\n",
              "</table><p>"
            ],
            "text/plain": [
              "<IPython.core.display.HTML object>"
            ]
          },
          "metadata": {},
          "output_type": "display_data"
        }
      ],
      "source": [
        "from trl import SFTConfig, SFTTrainer\n",
        "from transformers import TrainingArguments, Trainer\n",
        "import torch\n",
        "\n",
        "device = torch.device(\"cuda\" if torch.cuda.is_available() else \"cpu\")\n",
        "model.to(device)\n",
        "print(f\"Using device for training: {device}\")\n",
        "\n",
        "\n",
        "training_args = TrainingArguments(\n",
        "    output_dir=\"./smolmath-sft2-cot\", # Output directory\n",
        "    num_train_epochs=1, # Number of training epochs\n",
        "    per_device_train_batch_size=4, # Batch size per device during training\n",
        "    save_steps=10_000, # Save checkpoint every X updates steps\n",
        "    save_total_limit=2, # Limit the total amount of checkpoints\n",
        "    logging_dir=\"./logs\", # Directory for storing logs\n",
        "    logging_steps=50,\n",
        "    learning_rate=3e-5,\n",
        "    weight_decay=0.01,\n",
        "    eval_strategy=\"steps\", # Evaluate every X steps\n",
        "    eval_steps=1500,\n",
        "    # use_cpu = True if device.type == 'cpu' else False # Explicitly set use_cpu\n",
        ")\n",
        "\n",
        "trainer = SFTTrainer(\n",
        "    model=model,\n",
        "    train_dataset=train,\n",
        "    eval_dataset=validation,\n",
        "    processing_class=tokenizer,\n",
        "    args=training_args,\n",
        "    #dataset_text_field=\"text\", # The column in the dataset containing the text\n",
        "    #max_seq_length=512, # Maximum sequence length for training\n",
        ")\n",
        "\n",
        "trainer.train()\n",
        "\n",
        "trainer.save_model(\"./SmolMath-v2-SFT-CoT-AQuA\")"
      ]
    },
    {
      "cell_type": "code",
      "execution_count": 8,
      "metadata": {},
      "outputs": [
        {
          "data": {
            "text/plain": [
              "{'prompt': 'Question: A canteen requires 62 kgs of wheat for 6 days. How many kgs of wheat will it require for 60 days?\\nOptions: A)620 kgs  B)1,401kgs  C)1,104kgs  D)1,014kgs  E)None\\nAnswer:\\n',\n",
              " 'completion': 'Quantity of wheat for 6 days = 62kg\\nquantity of wheat for one day = 62/6 kg\\nquantity of wheat for 60 days= 62/6* 60 = 620 kg\\nAnswer A\\n####The answer is A.'}"
            ]
          },
          "execution_count": 8,
          "metadata": {},
          "output_type": "execute_result"
        }
      ],
      "source": [
        "validation[100]"
      ]
    },
    {
      "cell_type": "code",
      "execution_count": 9,
      "metadata": {
        "id": "o9x384O7wet_"
      },
      "outputs": [
        {
          "name": "stderr",
          "output_type": "stream",
          "text": [
            "The attention mask is not set and cannot be inferred from input because pad token is same as eos token. As a consequence, you may observe unexpected behavior. Please pass your input's `attention_mask` to obtain reliable results.\n"
          ]
        }
      ],
      "source": [
        "input_text = \"Question: a student got twice as many sums wrong as he got right . if he attempted 54 sums in all , how many did he solve correctly ? \\nOptions: a ) 12 , b ) 16 , c ) 18 , d ) 24 , e ) 26\\nAnswer:\\n\"\n",
        "input_ids = tokenizer.encode(input_text, return_tensors=\"pt\").to(device)\n",
        "\n",
        "# Generate text\n",
        "output = model.generate(input_ids, max_new_tokens=100, num_return_sequences=1, do_sample=True,top_k=50, temperature=0.6, pad_token_id=tokenizer.eos_token_id,)\n",
        "\n",
        "# Decode and print the generated text\n",
        "generated_text = tokenizer.decode(output[0], skip_special_tokens=True)"
      ]
    },
    {
      "cell_type": "code",
      "execution_count": 10,
      "metadata": {},
      "outputs": [
        {
          "name": "stdout",
          "output_type": "stream",
          "text": [
            "Question: a student got twice as many sums wrong as he got right . if he attempted 54 sums in all , how many did he solve correctly ? \n",
            "Options: a ) 12 , b ) 16 , c ) 18 , d ) 24 , e ) 26\n",
            "Answer:\n",
            "Explanation :\n",
            "Let x = total sums. Then,\n",
            "2x = 54\n",
            "=> x = 15\n",
            "Correct Option: E\n",
            "####The answer is E.\n",
            "####The answer is E.\n",
            "####The answer is E.\n",
            "####The answer is E.\n",
            "####The answer is E.\n",
            "####The answer is E.\n",
            "####The answer is E.\n",
            "####The answer is E.\n",
            "####The answer is E.\n",
            "####The answer is E\n"
          ]
        }
      ],
      "source": [
        "print(generated_text)"
      ]
    },
    {
      "cell_type": "code",
      "execution_count": 13,
      "metadata": {},
      "outputs": [
        {
          "name": "stderr",
          "output_type": "stream",
          "text": [
            "Using the latest cached version of the dataset since aqua_rat couldn't be found on the Hugging Face Hub\n",
            "Found the latest cached dataset configuration 'raw' at /home/ivlabs/.cache/huggingface/datasets/aqua_rat/raw/0.0.0/33301c6a050c96af81f63cad5562cb5363e88971 (last modified on Wed Jun  4 18:54:27 2025).\n",
            "100%|██████████| 32/32 [00:57<00:00,  1.81s/it]"
          ]
        },
        {
          "name": "stdout",
          "output_type": "stream",
          "text": [
            "\n",
            "Accuracy: 0.1667 (24/144)\n"
          ]
        },
        {
          "name": "stderr",
          "output_type": "stream",
          "text": [
            "\n"
          ]
        }
      ],
      "source": [
        "import re\n",
        "from datasets import load_dataset\n",
        "from transformers import AutoTokenizer, AutoModelForCausalLM\n",
        "import torch\n",
        "from tqdm import tqdm\n",
        "\n",
        "# Load dataset\n",
        "dataset = load_dataset(\"aqua_rat\", \"raw\")\n",
        "\n",
        "def make_prompt_and_target(example):\n",
        "    question = example[\"question\"]\n",
        "    opts = example[\"options\"]\n",
        "    opt_line = \"  \".join(opts)\n",
        "    rationale_text = (example[\"rationale\"])\n",
        "    target = rationale_text + \"\\n####The answer is \" + example[\"correct\"] + \".\"\n",
        "    prompt = f\"Question: {question}\\nOptions: {opt_line}\\nAnswer:\\n\"\n",
        "    return {\"prompt\": prompt, \"completion\": target, \"gold\": example[\"correct\"]}\n",
        "\n",
        "# Apply transformation\n",
        "test = dataset[\"test\"].map(make_prompt_and_target, remove_columns=dataset[\"test\"].column_names)\n",
        "\n",
        "\n",
        "# Evaluation parameters\n",
        "BATCH_SIZE = 8\n",
        "MAX_NEW_TOKENS = 100  # adjust as needed\n",
        "\n",
        "# Function to extract answer from generation\n",
        "def extract_answer(text):\n",
        "    match = re.search(r\"####The answer is ([A-Z])\", text)\n",
        "    return match.group(1) if match else None\n",
        "\n",
        "correct = 0\n",
        "total = 0\n",
        "no_ans = 0\n",
        "\n",
        "for i in tqdm(range(0, len(test), BATCH_SIZE)):\n",
        "    batch = test[i:i+BATCH_SIZE]\n",
        "    prompts = batch[\"prompt\"]\n",
        "\n",
        "    # Tokenize\n",
        "    inputs = tokenizer(prompts, return_tensors=\"pt\", padding=True, padding_side='left', truncation=True).to(model.device)\n",
        "\n",
        "    # Generate\n",
        "    with torch.no_grad():\n",
        "        outputs = model.generate(\n",
        "            **inputs,\n",
        "            max_new_tokens=MAX_NEW_TOKENS,\n",
        "            do_sample=False,\n",
        "            pad_token_id=tokenizer.eos_token_id,\n",
        "        )\n",
        "\n",
        "    generated_texts = tokenizer.batch_decode(outputs, skip_special_tokens=True)\n",
        "\n",
        "    for j, generated in enumerate(generated_texts):\n",
        "        pred = extract_answer(generated)\n",
        "        gold = batch[\"gold\"][j]\n",
        "        if pred is None:\n",
        "            no_ans += 1\n",
        "            continue\n",
        "\n",
        "        if pred == gold:\n",
        "            correct += 1\n",
        "        total += 1\n",
        "\n",
        "accuracy = correct / total\n",
        "print(f\"\\nAccuracy: {accuracy:.4f} ({correct}/{total})\")\n"
      ]
    },
    {
      "cell_type": "code",
      "execution_count": 15,
      "metadata": {},
      "outputs": [
        {
          "data": {
            "application/vnd.jupyter.widget-view+json": {
              "model_id": "58e141e78c74465c800f7a8369de9890",
              "version_major": 2,
              "version_minor": 0
            },
            "text/plain": [
              "VBox(children=(HTML(value='<center> <img\\nsrc=https://huggingface.co/front/assets/huggingface_logo-noborder.sv…"
            ]
          },
          "metadata": {},
          "output_type": "display_data"
        }
      ],
      "source": [
        "from huggingface_hub import login\n",
        "\n",
        "login()\n"
      ]
    },
    {
      "cell_type": "code",
      "execution_count": 16,
      "metadata": {},
      "outputs": [
        {
          "data": {
            "application/vnd.jupyter.widget-view+json": {
              "model_id": "90c376b8eaef4632a8c4c15515e03f04",
              "version_major": 2,
              "version_minor": 0
            },
            "text/plain": [
              "model.safetensors:   0%|          | 0.00/538M [00:00<?, ?B/s]"
            ]
          },
          "metadata": {},
          "output_type": "display_data"
        },
        {
          "data": {
            "application/vnd.jupyter.widget-view+json": {
              "model_id": "f0bd1d6eeed54e7394cd19db40ef1c15",
              "version_major": 2,
              "version_minor": 0
            },
            "text/plain": [
              "README.md:   0%|          | 0.00/5.18k [00:00<?, ?B/s]"
            ]
          },
          "metadata": {},
          "output_type": "display_data"
        },
        {
          "data": {
            "text/plain": [
              "CommitInfo(commit_url='https://huggingface.co/Ashed00/SmolMath-SFT2-CoT_AQuA/commit/0ae9493d8af345f368fb12d8e16847281a55145a', commit_message='Upload tokenizer', commit_description='', oid='0ae9493d8af345f368fb12d8e16847281a55145a', pr_url=None, repo_url=RepoUrl('https://huggingface.co/Ashed00/SmolMath-SFT2-CoT_AQuA', endpoint='https://huggingface.co', repo_type='model', repo_id='Ashed00/SmolMath-SFT2-CoT_AQuA'), pr_revision=None, pr_num=None)"
            ]
          },
          "execution_count": 16,
          "metadata": {},
          "output_type": "execute_result"
        }
      ],
      "source": [
        "model.push_to_hub(\"Ashed00/SmolMath-SFT2-CoT_AQuA\")\n",
        "tokenizer.push_to_hub(\"Ashed00/SmolMath-SFT2-CoT_AQuA\")\n"
      ]
    }
  ],
  "metadata": {
    "colab": {
      "provenance": []
    },
    "kernelspec": {
      "display_name": "Python 3",
      "name": "python3"
    },
    "language_info": {
      "codemirror_mode": {
        "name": "ipython",
        "version": 3
      },
      "file_extension": ".py",
      "mimetype": "text/x-python",
      "name": "python",
      "nbconvert_exporter": "python",
      "pygments_lexer": "ipython3",
      "version": "3.10.16"
    },
    "widgets": {
      "application/vnd.jupyter.widget-state+json": {
        "030391c8171a45d58aee5c1bbcfcceac": {
          "model_module": "@jupyter-widgets/controls",
          "model_module_version": "1.5.0",
          "model_name": "DescriptionStyleModel",
          "state": {
            "_model_module": "@jupyter-widgets/controls",
            "_model_module_version": "1.5.0",
            "_model_name": "DescriptionStyleModel",
            "_view_count": null,
            "_view_module": "@jupyter-widgets/base",
            "_view_module_version": "1.2.0",
            "_view_name": "StyleView",
            "description_width": ""
          }
        },
        "0941a2bf3efa4e2ebe770040e7a73547": {
          "model_module": "@jupyter-widgets/controls",
          "model_module_version": "1.5.0",
          "model_name": "DescriptionStyleModel",
          "state": {
            "_model_module": "@jupyter-widgets/controls",
            "_model_module_version": "1.5.0",
            "_model_name": "DescriptionStyleModel",
            "_view_count": null,
            "_view_module": "@jupyter-widgets/base",
            "_view_module_version": "1.2.0",
            "_view_name": "StyleView",
            "description_width": ""
          }
        },
        "155c8a9027d74a71a68f05f5270db04a": {
          "model_module": "@jupyter-widgets/controls",
          "model_module_version": "1.5.0",
          "model_name": "DescriptionStyleModel",
          "state": {
            "_model_module": "@jupyter-widgets/controls",
            "_model_module_version": "1.5.0",
            "_model_name": "DescriptionStyleModel",
            "_view_count": null,
            "_view_module": "@jupyter-widgets/base",
            "_view_module_version": "1.2.0",
            "_view_name": "StyleView",
            "description_width": ""
          }
        },
        "267df83c45954b24908994626a2e5748": {
          "model_module": "@jupyter-widgets/base",
          "model_module_version": "1.2.0",
          "model_name": "LayoutModel",
          "state": {
            "_model_module": "@jupyter-widgets/base",
            "_model_module_version": "1.2.0",
            "_model_name": "LayoutModel",
            "_view_count": null,
            "_view_module": "@jupyter-widgets/base",
            "_view_module_version": "1.2.0",
            "_view_name": "LayoutView",
            "align_content": null,
            "align_items": null,
            "align_self": null,
            "border": null,
            "bottom": null,
            "display": null,
            "flex": null,
            "flex_flow": null,
            "grid_area": null,
            "grid_auto_columns": null,
            "grid_auto_flow": null,
            "grid_auto_rows": null,
            "grid_column": null,
            "grid_gap": null,
            "grid_row": null,
            "grid_template_areas": null,
            "grid_template_columns": null,
            "grid_template_rows": null,
            "height": null,
            "justify_content": null,
            "justify_items": null,
            "left": null,
            "margin": null,
            "max_height": null,
            "max_width": null,
            "min_height": null,
            "min_width": null,
            "object_fit": null,
            "object_position": null,
            "order": null,
            "overflow": null,
            "overflow_x": null,
            "overflow_y": null,
            "padding": null,
            "right": null,
            "top": null,
            "visibility": null,
            "width": null
          }
        },
        "2f366273320f4de586e9c4cb75098f09": {
          "model_module": "@jupyter-widgets/controls",
          "model_module_version": "1.5.0",
          "model_name": "DescriptionStyleModel",
          "state": {
            "_model_module": "@jupyter-widgets/controls",
            "_model_module_version": "1.5.0",
            "_model_name": "DescriptionStyleModel",
            "_view_count": null,
            "_view_module": "@jupyter-widgets/base",
            "_view_module_version": "1.2.0",
            "_view_name": "StyleView",
            "description_width": ""
          }
        },
        "448a59a6278b4c9cabd809978d5dd828": {
          "model_module": "@jupyter-widgets/controls",
          "model_module_version": "1.5.0",
          "model_name": "HBoxModel",
          "state": {
            "_dom_classes": [],
            "_model_module": "@jupyter-widgets/controls",
            "_model_module_version": "1.5.0",
            "_model_name": "HBoxModel",
            "_view_count": null,
            "_view_module": "@jupyter-widgets/controls",
            "_view_module_version": "1.5.0",
            "_view_name": "HBoxView",
            "box_style": "",
            "children": [
              "IPY_MODEL_dda37ef95c2c4aaf8af8dbc7b346e8ac",
              "IPY_MODEL_a65939d6094b49468bbe14ebd05f89be",
              "IPY_MODEL_f99e2da4339d4cdf8ea17451b5e34012"
            ],
            "layout": "IPY_MODEL_d193bab65dc541da8b8f81c7b3ae86eb"
          }
        },
        "578b631a8d59447d9033e6e664a2bce0": {
          "model_module": "@jupyter-widgets/controls",
          "model_module_version": "1.5.0",
          "model_name": "FloatProgressModel",
          "state": {
            "_dom_classes": [],
            "_model_module": "@jupyter-widgets/controls",
            "_model_module_version": "1.5.0",
            "_model_name": "FloatProgressModel",
            "_view_count": null,
            "_view_module": "@jupyter-widgets/controls",
            "_view_module_version": "1.5.0",
            "_view_name": "ProgressView",
            "bar_style": "success",
            "description": "",
            "description_tooltip": null,
            "layout": "IPY_MODEL_d6f2afc538ed47d1923dec19b2cdcb5b",
            "max": 97467,
            "min": 0,
            "orientation": "horizontal",
            "style": "IPY_MODEL_7cae0bcbf31240eeac1bfd5fa9455d75",
            "value": 97467
          }
        },
        "7079999dbe4a4f359f80ed002a9fc73e": {
          "model_module": "@jupyter-widgets/controls",
          "model_module_version": "1.5.0",
          "model_name": "HTMLModel",
          "state": {
            "_dom_classes": [],
            "_model_module": "@jupyter-widgets/controls",
            "_model_module_version": "1.5.0",
            "_model_name": "HTMLModel",
            "_view_count": null,
            "_view_module": "@jupyter-widgets/controls",
            "_view_module_version": "1.5.0",
            "_view_name": "HTMLView",
            "description": "",
            "description_tooltip": null,
            "layout": "IPY_MODEL_f5918ce91907487fa87a706630a2356b",
            "placeholder": "​",
            "style": "IPY_MODEL_030391c8171a45d58aee5c1bbcfcceac",
            "value": "Map: 100%"
          }
        },
        "7cae0bcbf31240eeac1bfd5fa9455d75": {
          "model_module": "@jupyter-widgets/controls",
          "model_module_version": "1.5.0",
          "model_name": "ProgressStyleModel",
          "state": {
            "_model_module": "@jupyter-widgets/controls",
            "_model_module_version": "1.5.0",
            "_model_name": "ProgressStyleModel",
            "_view_count": null,
            "_view_module": "@jupyter-widgets/base",
            "_view_module_version": "1.2.0",
            "_view_name": "StyleView",
            "bar_color": null,
            "description_width": ""
          }
        },
        "85a29dc86ffa4f6bbe34c6325e6c4ae8": {
          "model_module": "@jupyter-widgets/base",
          "model_module_version": "1.2.0",
          "model_name": "LayoutModel",
          "state": {
            "_model_module": "@jupyter-widgets/base",
            "_model_module_version": "1.2.0",
            "_model_name": "LayoutModel",
            "_view_count": null,
            "_view_module": "@jupyter-widgets/base",
            "_view_module_version": "1.2.0",
            "_view_name": "LayoutView",
            "align_content": null,
            "align_items": null,
            "align_self": null,
            "border": null,
            "bottom": null,
            "display": null,
            "flex": null,
            "flex_flow": null,
            "grid_area": null,
            "grid_auto_columns": null,
            "grid_auto_flow": null,
            "grid_auto_rows": null,
            "grid_column": null,
            "grid_gap": null,
            "grid_row": null,
            "grid_template_areas": null,
            "grid_template_columns": null,
            "grid_template_rows": null,
            "height": null,
            "justify_content": null,
            "justify_items": null,
            "left": null,
            "margin": null,
            "max_height": null,
            "max_width": null,
            "min_height": null,
            "min_width": null,
            "object_fit": null,
            "object_position": null,
            "order": null,
            "overflow": null,
            "overflow_x": null,
            "overflow_y": null,
            "padding": null,
            "right": null,
            "top": null,
            "visibility": null,
            "width": null
          }
        },
        "8614a8ac61af49d99ca219c65c4699c1": {
          "model_module": "@jupyter-widgets/controls",
          "model_module_version": "1.5.0",
          "model_name": "HTMLModel",
          "state": {
            "_dom_classes": [],
            "_model_module": "@jupyter-widgets/controls",
            "_model_module_version": "1.5.0",
            "_model_name": "HTMLModel",
            "_view_count": null,
            "_view_module": "@jupyter-widgets/controls",
            "_view_module_version": "1.5.0",
            "_view_name": "HTMLView",
            "description": "",
            "description_tooltip": null,
            "layout": "IPY_MODEL_85a29dc86ffa4f6bbe34c6325e6c4ae8",
            "placeholder": "​",
            "style": "IPY_MODEL_0941a2bf3efa4e2ebe770040e7a73547",
            "value": " 97467/97467 [00:10&lt;00:00, 10504.13 examples/s]"
          }
        },
        "898ac0c448f348a7a591b00c631ed4b4": {
          "model_module": "@jupyter-widgets/base",
          "model_module_version": "1.2.0",
          "model_name": "LayoutModel",
          "state": {
            "_model_module": "@jupyter-widgets/base",
            "_model_module_version": "1.2.0",
            "_model_name": "LayoutModel",
            "_view_count": null,
            "_view_module": "@jupyter-widgets/base",
            "_view_module_version": "1.2.0",
            "_view_name": "LayoutView",
            "align_content": null,
            "align_items": null,
            "align_self": null,
            "border": null,
            "bottom": null,
            "display": null,
            "flex": null,
            "flex_flow": null,
            "grid_area": null,
            "grid_auto_columns": null,
            "grid_auto_flow": null,
            "grid_auto_rows": null,
            "grid_column": null,
            "grid_gap": null,
            "grid_row": null,
            "grid_template_areas": null,
            "grid_template_columns": null,
            "grid_template_rows": null,
            "height": null,
            "justify_content": null,
            "justify_items": null,
            "left": null,
            "margin": null,
            "max_height": null,
            "max_width": null,
            "min_height": null,
            "min_width": null,
            "object_fit": null,
            "object_position": null,
            "order": null,
            "overflow": null,
            "overflow_x": null,
            "overflow_y": null,
            "padding": null,
            "right": null,
            "top": null,
            "visibility": null,
            "width": null
          }
        },
        "a65939d6094b49468bbe14ebd05f89be": {
          "model_module": "@jupyter-widgets/controls",
          "model_module_version": "1.5.0",
          "model_name": "FloatProgressModel",
          "state": {
            "_dom_classes": [],
            "_model_module": "@jupyter-widgets/controls",
            "_model_module_version": "1.5.0",
            "_model_name": "FloatProgressModel",
            "_view_count": null,
            "_view_module": "@jupyter-widgets/controls",
            "_view_module_version": "1.5.0",
            "_view_name": "ProgressView",
            "bar_style": "success",
            "description": "",
            "description_tooltip": null,
            "layout": "IPY_MODEL_a6bad1d2c9724ec092c7179613cacb93",
            "max": 254,
            "min": 0,
            "orientation": "horizontal",
            "style": "IPY_MODEL_f49a1f6ccf634cfbaf68752275429e89",
            "value": 254
          }
        },
        "a6bad1d2c9724ec092c7179613cacb93": {
          "model_module": "@jupyter-widgets/base",
          "model_module_version": "1.2.0",
          "model_name": "LayoutModel",
          "state": {
            "_model_module": "@jupyter-widgets/base",
            "_model_module_version": "1.2.0",
            "_model_name": "LayoutModel",
            "_view_count": null,
            "_view_module": "@jupyter-widgets/base",
            "_view_module_version": "1.2.0",
            "_view_name": "LayoutView",
            "align_content": null,
            "align_items": null,
            "align_self": null,
            "border": null,
            "bottom": null,
            "display": null,
            "flex": null,
            "flex_flow": null,
            "grid_area": null,
            "grid_auto_columns": null,
            "grid_auto_flow": null,
            "grid_auto_rows": null,
            "grid_column": null,
            "grid_gap": null,
            "grid_row": null,
            "grid_template_areas": null,
            "grid_template_columns": null,
            "grid_template_rows": null,
            "height": null,
            "justify_content": null,
            "justify_items": null,
            "left": null,
            "margin": null,
            "max_height": null,
            "max_width": null,
            "min_height": null,
            "min_width": null,
            "object_fit": null,
            "object_position": null,
            "order": null,
            "overflow": null,
            "overflow_x": null,
            "overflow_y": null,
            "padding": null,
            "right": null,
            "top": null,
            "visibility": null,
            "width": null
          }
        },
        "ae0c405d1d5548c38f4a9285b3a8857a": {
          "model_module": "@jupyter-widgets/controls",
          "model_module_version": "1.5.0",
          "model_name": "HBoxModel",
          "state": {
            "_dom_classes": [],
            "_model_module": "@jupyter-widgets/controls",
            "_model_module_version": "1.5.0",
            "_model_name": "HBoxModel",
            "_view_count": null,
            "_view_module": "@jupyter-widgets/controls",
            "_view_module_version": "1.5.0",
            "_view_name": "HBoxView",
            "box_style": "",
            "children": [
              "IPY_MODEL_7079999dbe4a4f359f80ed002a9fc73e",
              "IPY_MODEL_578b631a8d59447d9033e6e664a2bce0",
              "IPY_MODEL_8614a8ac61af49d99ca219c65c4699c1"
            ],
            "layout": "IPY_MODEL_898ac0c448f348a7a591b00c631ed4b4"
          }
        },
        "d193bab65dc541da8b8f81c7b3ae86eb": {
          "model_module": "@jupyter-widgets/base",
          "model_module_version": "1.2.0",
          "model_name": "LayoutModel",
          "state": {
            "_model_module": "@jupyter-widgets/base",
            "_model_module_version": "1.2.0",
            "_model_name": "LayoutModel",
            "_view_count": null,
            "_view_module": "@jupyter-widgets/base",
            "_view_module_version": "1.2.0",
            "_view_name": "LayoutView",
            "align_content": null,
            "align_items": null,
            "align_self": null,
            "border": null,
            "bottom": null,
            "display": null,
            "flex": null,
            "flex_flow": null,
            "grid_area": null,
            "grid_auto_columns": null,
            "grid_auto_flow": null,
            "grid_auto_rows": null,
            "grid_column": null,
            "grid_gap": null,
            "grid_row": null,
            "grid_template_areas": null,
            "grid_template_columns": null,
            "grid_template_rows": null,
            "height": null,
            "justify_content": null,
            "justify_items": null,
            "left": null,
            "margin": null,
            "max_height": null,
            "max_width": null,
            "min_height": null,
            "min_width": null,
            "object_fit": null,
            "object_position": null,
            "order": null,
            "overflow": null,
            "overflow_x": null,
            "overflow_y": null,
            "padding": null,
            "right": null,
            "top": null,
            "visibility": null,
            "width": null
          }
        },
        "d6f2afc538ed47d1923dec19b2cdcb5b": {
          "model_module": "@jupyter-widgets/base",
          "model_module_version": "1.2.0",
          "model_name": "LayoutModel",
          "state": {
            "_model_module": "@jupyter-widgets/base",
            "_model_module_version": "1.2.0",
            "_model_name": "LayoutModel",
            "_view_count": null,
            "_view_module": "@jupyter-widgets/base",
            "_view_module_version": "1.2.0",
            "_view_name": "LayoutView",
            "align_content": null,
            "align_items": null,
            "align_self": null,
            "border": null,
            "bottom": null,
            "display": null,
            "flex": null,
            "flex_flow": null,
            "grid_area": null,
            "grid_auto_columns": null,
            "grid_auto_flow": null,
            "grid_auto_rows": null,
            "grid_column": null,
            "grid_gap": null,
            "grid_row": null,
            "grid_template_areas": null,
            "grid_template_columns": null,
            "grid_template_rows": null,
            "height": null,
            "justify_content": null,
            "justify_items": null,
            "left": null,
            "margin": null,
            "max_height": null,
            "max_width": null,
            "min_height": null,
            "min_width": null,
            "object_fit": null,
            "object_position": null,
            "order": null,
            "overflow": null,
            "overflow_x": null,
            "overflow_y": null,
            "padding": null,
            "right": null,
            "top": null,
            "visibility": null,
            "width": null
          }
        },
        "dda37ef95c2c4aaf8af8dbc7b346e8ac": {
          "model_module": "@jupyter-widgets/controls",
          "model_module_version": "1.5.0",
          "model_name": "HTMLModel",
          "state": {
            "_dom_classes": [],
            "_model_module": "@jupyter-widgets/controls",
            "_model_module_version": "1.5.0",
            "_model_name": "HTMLModel",
            "_view_count": null,
            "_view_module": "@jupyter-widgets/controls",
            "_view_module_version": "1.5.0",
            "_view_name": "HTMLView",
            "description": "",
            "description_tooltip": null,
            "layout": "IPY_MODEL_ff886d0d26cf4a2ea36156440c2edab3",
            "placeholder": "​",
            "style": "IPY_MODEL_155c8a9027d74a71a68f05f5270db04a",
            "value": "Map: 100%"
          }
        },
        "f49a1f6ccf634cfbaf68752275429e89": {
          "model_module": "@jupyter-widgets/controls",
          "model_module_version": "1.5.0",
          "model_name": "ProgressStyleModel",
          "state": {
            "_model_module": "@jupyter-widgets/controls",
            "_model_module_version": "1.5.0",
            "_model_name": "ProgressStyleModel",
            "_view_count": null,
            "_view_module": "@jupyter-widgets/base",
            "_view_module_version": "1.2.0",
            "_view_name": "StyleView",
            "bar_color": null,
            "description_width": ""
          }
        },
        "f5918ce91907487fa87a706630a2356b": {
          "model_module": "@jupyter-widgets/base",
          "model_module_version": "1.2.0",
          "model_name": "LayoutModel",
          "state": {
            "_model_module": "@jupyter-widgets/base",
            "_model_module_version": "1.2.0",
            "_model_name": "LayoutModel",
            "_view_count": null,
            "_view_module": "@jupyter-widgets/base",
            "_view_module_version": "1.2.0",
            "_view_name": "LayoutView",
            "align_content": null,
            "align_items": null,
            "align_self": null,
            "border": null,
            "bottom": null,
            "display": null,
            "flex": null,
            "flex_flow": null,
            "grid_area": null,
            "grid_auto_columns": null,
            "grid_auto_flow": null,
            "grid_auto_rows": null,
            "grid_column": null,
            "grid_gap": null,
            "grid_row": null,
            "grid_template_areas": null,
            "grid_template_columns": null,
            "grid_template_rows": null,
            "height": null,
            "justify_content": null,
            "justify_items": null,
            "left": null,
            "margin": null,
            "max_height": null,
            "max_width": null,
            "min_height": null,
            "min_width": null,
            "object_fit": null,
            "object_position": null,
            "order": null,
            "overflow": null,
            "overflow_x": null,
            "overflow_y": null,
            "padding": null,
            "right": null,
            "top": null,
            "visibility": null,
            "width": null
          }
        },
        "f99e2da4339d4cdf8ea17451b5e34012": {
          "model_module": "@jupyter-widgets/controls",
          "model_module_version": "1.5.0",
          "model_name": "HTMLModel",
          "state": {
            "_dom_classes": [],
            "_model_module": "@jupyter-widgets/controls",
            "_model_module_version": "1.5.0",
            "_model_name": "HTMLModel",
            "_view_count": null,
            "_view_module": "@jupyter-widgets/controls",
            "_view_module_version": "1.5.0",
            "_view_name": "HTMLView",
            "description": "",
            "description_tooltip": null,
            "layout": "IPY_MODEL_267df83c45954b24908994626a2e5748",
            "placeholder": "​",
            "style": "IPY_MODEL_2f366273320f4de586e9c4cb75098f09",
            "value": " 254/254 [00:00&lt;00:00, 4308.81 examples/s]"
          }
        },
        "ff886d0d26cf4a2ea36156440c2edab3": {
          "model_module": "@jupyter-widgets/base",
          "model_module_version": "1.2.0",
          "model_name": "LayoutModel",
          "state": {
            "_model_module": "@jupyter-widgets/base",
            "_model_module_version": "1.2.0",
            "_model_name": "LayoutModel",
            "_view_count": null,
            "_view_module": "@jupyter-widgets/base",
            "_view_module_version": "1.2.0",
            "_view_name": "LayoutView",
            "align_content": null,
            "align_items": null,
            "align_self": null,
            "border": null,
            "bottom": null,
            "display": null,
            "flex": null,
            "flex_flow": null,
            "grid_area": null,
            "grid_auto_columns": null,
            "grid_auto_flow": null,
            "grid_auto_rows": null,
            "grid_column": null,
            "grid_gap": null,
            "grid_row": null,
            "grid_template_areas": null,
            "grid_template_columns": null,
            "grid_template_rows": null,
            "height": null,
            "justify_content": null,
            "justify_items": null,
            "left": null,
            "margin": null,
            "max_height": null,
            "max_width": null,
            "min_height": null,
            "min_width": null,
            "object_fit": null,
            "object_position": null,
            "order": null,
            "overflow": null,
            "overflow_x": null,
            "overflow_y": null,
            "padding": null,
            "right": null,
            "top": null,
            "visibility": null,
            "width": null
          }
        }
      }
    }
  },
  "nbformat": 4,
  "nbformat_minor": 0
}
