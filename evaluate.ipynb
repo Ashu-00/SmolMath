{
 "cells": [
  {
   "cell_type": "code",
   "execution_count": 1,
   "id": "b9bef156",
   "metadata": {},
   "outputs": [
    {
     "name": "stderr",
     "output_type": "stream",
     "text": [
      "/home/ivlabs/Desktop/gautam/SmolMath/.venv/lib/python3.10/site-packages/tqdm/auto.py:21: TqdmWarning: IProgress not found. Please update jupyter and ipywidgets. See https://ipywidgets.readthedocs.io/en/stable/user_install.html\n",
      "  from .autonotebook import tqdm as notebook_tqdm\n"
     ]
    }
   ],
   "source": [
    "from transformers import AutoTokenizer, AutoModelForCausalLM\n",
    "from datasets import load_dataset\n",
    "\n",
    "#m_name = \"HuggingFaceTB/SmolLM2-135M-Instruct\"\n",
    "m_name = \"Ashed00/SmolMath-135M\"\n",
    "\n",
    "tokenizer = AutoTokenizer.from_pretrained(m_name)\n",
    "model = AutoModelForCausalLM.from_pretrained(m_name)"
   ]
  },
  {
   "cell_type": "code",
   "execution_count": 4,
   "id": "0f597434",
   "metadata": {},
   "outputs": [
    {
     "name": "stdout",
     "output_type": "stream",
     "text": [
      "Dataset({\n",
      "    features: ['ID', 'Body', 'Question', 'Equation', 'Type', 'question', 'answer', 'source', 'input'],\n",
      "    num_rows: 200\n",
      "})\n"
     ]
    },
    {
     "name": "stderr",
     "output_type": "stream",
     "text": [
      "Map: 100%|██████████| 1120/1120 [00:00<00:00, 18400.18 examples/s]\n",
      "100%|██████████| 1120/1120 [16:12<00:00,  1.15it/s]"
     ]
    },
    {
     "name": "stdout",
     "output_type": "stream",
     "text": [
      "Accuracy (last number match): 12.05%\n"
     ]
    },
    {
     "name": "stderr",
     "output_type": "stream",
     "text": [
      "\n"
     ]
    }
   ],
   "source": [
    "# Evaluation function\n",
    "from tqdm import tqdm\n",
    "import re\n",
    "import torch\n",
    "\n",
    "data = load_dataset(\"Ashed00/combined_math_problems\", split=\"train\")\n",
    "addsub_data = data.filter(lambda x: x['source'] == 'AddSub')\n",
    "data = data.filter(lambda x: x['source'] != 'AddSub')\n",
    "\n",
    "\n",
    "#select 200 random rows from addsub\n",
    "\n",
    "addsub_data = addsub_data.shuffle().select(range(200))\n",
    "\n",
    "print(addsub_data)\n",
    "\n",
    "#concat addsub with data\n",
    "#data = concatenate_datasets([data, addsub_data])\n",
    "data = data.to_pandas()\n",
    "\n",
    "# Drop all columns except 'question' and 'answer'\n",
    "columns_to_keep = ['question', 'answer']\n",
    "columns_to_drop = [col for col in data.columns if col not in columns_to_keep]\n",
    "data = data.drop(columns=columns_to_drop)\n",
    "\n",
    "# Drop rows with null values in 'question' or 'answer'\n",
    "data = data.dropna(subset=['question', 'answer'])\n",
    "\n",
    "# Drop rows where 'question' or 'answer' are not strings\n",
    "data = data[data['question'].apply(lambda x: isinstance(x, str))]\n",
    "data = data[data['answer'].apply(lambda x: isinstance(x, str))]\n",
    "\n",
    "from datasets import Dataset\n",
    "data = Dataset.from_pandas(data)\n",
    "\n",
    "data = data.shuffle()\n",
    "\n",
    "# prompt: Update question to the form \"Q: question /n A:\"\n",
    "\n",
    "def format_qa(example):\n",
    "  example['question'] = \"Question: \"+f\"{example['question']}\".strip()+\"\\n Answer:\"\n",
    "  example['answer'] = f\"{example['answer']}\".strip() +\"\\n#End of Answer.\" + str(tokenizer.eos_token)\n",
    "  return example\n",
    "\n",
    "data = data.map(format_qa)\n",
    "\n",
    "data = data.rename_column(\"question\", \"prompt\")\n",
    "data = data.rename_column(\"answer\", \"completion\")\n",
    "\n",
    "\n",
    "\n",
    "device = torch.device(\"cuda\" if torch.cuda.is_available() else \"cpu\")\n",
    "model.to(device)\n",
    "\n",
    "tokenizer.pad_token = tokenizer.eos_token\n",
    "\n",
    "# Helper: Extract last number (int or decimal) from string\n",
    "def extract_last_number(text):\n",
    "    numbers = re.findall(r'-?\\d+(?:\\.\\d+)?', text)\n",
    "    return numbers[-1] if numbers else None\n",
    "\n",
    "# Evaluation function\n",
    "def evaluate_accuracy(dataset, max_samples=10000):\n",
    "    correct = 0\n",
    "    total = 0\n",
    "\n",
    "    for example in tqdm(dataset.select(range(min(len(dataset), max_samples)))):\n",
    "        question = example['prompt']\n",
    "        expected_answer = str(example['completion'])\n",
    "\n",
    "        # Encode and generate\n",
    "        inputs = tokenizer(question, return_tensors=\"pt\").to(device)\n",
    "        outputs = model.generate(**inputs, max_new_tokens=50, pad_token_id=tokenizer.eos_token_id)\n",
    "        generated = tokenizer.decode(outputs[0], skip_special_tokens=True)\n",
    "\n",
    "        # Extract answers\n",
    "        generated_answer = generated[len(question):].strip()\n",
    "        gen_number = extract_last_number(generated_answer)\n",
    "        exp_number = extract_last_number(expected_answer)\n",
    "\n",
    "        if gen_number is not None and exp_number is not None and gen_number == exp_number:\n",
    "            correct += 1\n",
    "        total += 1\n",
    "\n",
    "    accuracy = correct / total if total > 0 else 0.0\n",
    "    print(f\"Accuracy (last number match): {accuracy:.2%}\")\n",
    "\n",
    "# Run evaluation\n",
    "evaluate_accuracy(data)"
   ]
  },
  {
   "cell_type": "code",
   "execution_count": 5,
   "id": "b0b21bb8",
   "metadata": {},
   "outputs": [
    {
     "name": "stderr",
     "output_type": "stream",
     "text": [
      "100%|██████████| 2649/2649 [35:26<00:00,  1.25it/s]"
     ]
    },
    {
     "name": "stdout",
     "output_type": "stream",
     "text": [
      "Accuracy (last number match): 8.31%\n"
     ]
    },
    {
     "name": "stderr",
     "output_type": "stream",
     "text": [
      "\n"
     ]
    }
   ],
   "source": [
    "from datasets import load_dataset\n",
    "\n",
    "ds = load_dataset(\"MU-NLPC/Calc-mawps\", \"default\")\n",
    "\n",
    "def format_qa_m(example):\n",
    "  example['question'] = \"Question: \"+f\"{example['question']}\".strip()+\"\\n Answer:\"\n",
    "  example['answer'] = example[\"result\"]\n",
    "  return example\n",
    "\n",
    "ds = ds.map(format_qa_m)\n",
    "\n",
    "ds = ds.rename_column(\"question\", \"prompt\")\n",
    "ds = ds.rename_column(\"answer\", \"completion\")\n",
    "\n",
    "from datasets import concatenate_datasets\n",
    "\n",
    "mds = concatenate_datasets(\n",
    "  [ds[\"train\"],\n",
    "  ds[\"validation\"],\n",
    "  ds[\"test\"],]\n",
    ")\n",
    "\n",
    "evaluate_accuracy(mds)\n",
    "\n",
    "\n"
   ]
  }
 ],
 "metadata": {
  "kernelspec": {
   "display_name": ".venv",
   "language": "python",
   "name": "python3"
  },
  "language_info": {
   "codemirror_mode": {
    "name": "ipython",
    "version": 3
   },
   "file_extension": ".py",
   "mimetype": "text/x-python",
   "name": "python",
   "nbconvert_exporter": "python",
   "pygments_lexer": "ipython3",
   "version": "3.10.16"
  }
 },
 "nbformat": 4,
 "nbformat_minor": 5
}
